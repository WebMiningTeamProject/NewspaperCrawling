{
 "cells": [
  {
   "cell_type": "code",
   "execution_count": null,
   "metadata": {
    "collapsed": false
   },
   "outputs": [],
   "source": [
    "#in CMD: pip install mysqlclient\n",
    "import configparser\n",
    "import os\n",
    "import sys\n",
    "import MySQLdb\n",
    "#add crawler package as additional source of modules\n",
    "module_path = os.path.abspath(os.path.join('crawler'))\n",
    "if module_path not in sys.path:\n",
    "    sys.path.append(module_path)\n",
    "    \n",
    "from DatabaseHandler import DatabaseHandler \n",
    "from model import NewsProvider, NewsArticle\n",
    "\n",
    "import matplotlib.pyplot as plt\n",
    "%matplotlib inline\n",
    "import numpy as np\n"
   ]
  },
  {
   "cell_type": "code",
   "execution_count": null,
   "metadata": {
    "collapsed": false
   },
   "outputs": [],
   "source": [
    "conf = configparser.ConfigParser()\n",
    "conf.read(\"crawler_config.ini\")\n",
    "dbh = DatabaseHandler(conf['DATABASE']['Host'], conf['DATABASE']['User'], conf['DATABASE']['Password'], conf['DATABASE']['DB'])"
   ]
  },
  {
   "cell_type": "markdown",
   "metadata": {},
   "source": [
    "## Work with DB Handler and Objects/Dicts"
   ]
  },
  {
   "cell_type": "code",
   "execution_count": null,
   "metadata": {
    "collapsed": false
   },
   "outputs": [],
   "source": [
    "#provider = dbh.readNewsProvider()\n",
    "articles = dbh.select(\"NewsArticles\")\n",
    "articles[0][\"source_uri\"]"
   ]
  },
  {
   "cell_type": "markdown",
   "metadata": {},
   "source": [
    "## Plain SQL\n"
   ]
  },
  {
   "cell_type": "code",
   "execution_count": null,
   "metadata": {
    "collapsed": false
   },
   "outputs": [],
   "source": [
    "## copied fom DB Handler\n",
    "def executeSQL(dbh,statement):\n",
    "    if statement:\n",
    "        try:\n",
    "            print('Executing SQL-query:\\n\\t%s'\n",
    "                              % statement.replace('\\n', '\\n\\t'))\n",
    "            dbh.cnx.execute(statement)\n",
    "            return dbh.cnx.fetchall()\n",
    "        except MySQLdb.Warning as e:\n",
    "            print(\"Warning while executing statement: %s\" % e)\n",
    "        except MySQLdb.Error as e:\n",
    "            print(\"Error while executing statement [%d]: %s\"\n",
    "                              % (e.args[0], e.args[1]))"
   ]
  },
  {
   "cell_type": "code",
   "execution_count": null,
   "metadata": {
    "collapsed": false
   },
   "outputs": [],
   "source": [
    "executeSQL(dbh, \"\"\"SELECT news_provider, COUNT(*) \n",
    "           FROM NewsArticles \n",
    "           GROUP BY news_provider \n",
    "           ORDER BY COUNT(*) DESC\"\"\")"
   ]
  },
  {
   "cell_type": "code",
   "execution_count": null,
   "metadata": {
    "collapsed": false
   },
   "outputs": [],
   "source": [
    "#Structure of NewsArticles: 'added_on': datetime.datetime(2017, 4, 21, 17, 0, 43),'author': '[]','news_provider': '...', 'source_uri': '...','text'\n",
    "dates = executeSQL(dbh, \"\"\"SELECT DATE(added_on) as \"date\" , COUNT(*) as \"count\"\n",
    "           FROM NewsArticles \n",
    "           GROUP BY DATE(added_on) \n",
    "           ORDER BY DATE(added_on) ASC \"\"\")"
   ]
  },
  {
   "cell_type": "code",
   "execution_count": null,
   "metadata": {
    "collapsed": false
   },
   "outputs": [],
   "source": [
    "executeSQL(dbh, \"\"\"SELECT *\n",
    "           FROM NewsArticlesBOW\n",
    "           LIMIT 1\"\"\")"
   ]
  },
  {
   "cell_type": "code",
   "execution_count": null,
   "metadata": {
    "collapsed": false
   },
   "outputs": [],
   "source": [
    "executeSQL(dbh, \"\"\"SELECT MAX(LENGTH(text))\n",
    "           FROM NewsArticles \n",
    "           \"\"\")"
   ]
  },
  {
   "cell_type": "code",
   "execution_count": null,
   "metadata": {
    "collapsed": false
   },
   "outputs": [],
   "source": [
    "res = executeSQL(dbh,\"\"\"SELECT source_uri, text \n",
    "    FROM NewsArticles LIMIT 2    \n",
    "    \"\"\")"
   ]
  },
  {
   "cell_type": "code",
   "execution_count": null,
   "metadata": {
    "collapsed": false
   },
   "outputs": [],
   "source": [
    "n = len(res)\n",
    "uris = np.empty(n,dtype=np.dtype(('U', 255)))\n",
    "texts = np.empty(n,dtype=np.dtype(('U', 10000)))\n",
    "\n",
    "for i, row in enumerate(res):\n",
    "    uris[i] = row[\"source_uri\"]\n",
    "    texts[i] = row[\"text\"]"
   ]
  },
  {
   "cell_type": "code",
   "execution_count": null,
   "metadata": {
    "collapsed": false
   },
   "outputs": [],
   "source": [
    "texts"
   ]
  },
  {
   "cell_type": "code",
   "execution_count": null,
   "metadata": {
    "collapsed": false
   },
   "outputs": [],
   "source": [
    "counts = []\n",
    "values = []\n",
    "for date in dates: \n",
    "    counts.append(date[\"count\"])\n",
    "    #values.append(str(date[\"date\"].day) + \".\" + str(date[\"date\"].month))\n",
    "    values.append(date[\"date\"].day)\n"
   ]
  },
  {
   "cell_type": "code",
   "execution_count": null,
   "metadata": {
    "collapsed": false
   },
   "outputs": [],
   "source": [
    "plt.plot(values,counts) \n",
    "plt.axis([min(values),max(values),0, max(counts)])"
   ]
  },
  {
   "cell_type": "code",
   "execution_count": null,
   "metadata": {
    "collapsed": false
   },
   "outputs": [],
   "source": [
    "values"
   ]
  },
  {
   "cell_type": "code",
   "execution_count": null,
   "metadata": {
    "collapsed": true
   },
   "outputs": [],
   "source": []
  }
 ],
 "metadata": {
  "kernelspec": {
   "display_name": "Python 3",
   "language": "python",
   "name": "python3"
  },
  "language_info": {
   "codemirror_mode": {
    "name": "ipython",
    "version": 3
   },
   "file_extension": ".py",
   "mimetype": "text/x-python",
   "name": "python",
   "nbconvert_exporter": "python",
   "pygments_lexer": "ipython3",
   "version": "3.5.2"
  }
 },
 "nbformat": 4,
 "nbformat_minor": 2
}
