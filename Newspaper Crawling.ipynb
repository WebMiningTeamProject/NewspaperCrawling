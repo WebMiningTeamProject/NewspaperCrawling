{
 "cells": [
  {
   "cell_type": "markdown",
   "metadata": {},
   "source": [
    "# Install\n",
    "* 1) Install Python 3.x version: pip install newspaper3k \n",
    "* [2)Download necessary NLTK Corpora:] - only necessary for \"Out of the box\" NLP -> we may do our own?\n",
    "    * -> Simply execute below coding for this step (after executing 1))"
   ]
  },
  {
   "cell_type": "code",
   "execution_count": null,
   "metadata": {
    "collapsed": false
   },
   "outputs": [],
   "source": [
    "import nltk\n",
    "REQUIRED_CORPORA = [\n",
    "    'brown',  # Required for FastNPExtractor\n",
    "    'punkt',  # Required for WordTokenizer\n",
    "    'maxent_treebank_pos_tagger',  # Required for NLTKTagger\n",
    "    'movie_reviews',  # Required for NaiveBayesAnalyzer\n",
    "    'wordnet',  # Required for lemmatization and Wordnet\n",
    "    'stopwords'\n",
    "]\n",
    "\n",
    "\n",
    "for each in REQUIRED_CORPORA:\n",
    "    print(('Downloading \"{0}\"'.format(each)))\n",
    "    nltk.download(each)\n",
    "print(\"Finished.\")"
   ]
  },
  {
   "cell_type": "markdown",
   "metadata": {},
   "source": [
    "# Usage\n",
    "From https://github.com/codelucas/newspaper/blob/master/docs/user_guide/quickstart.rst"
   ]
  },
  {
   "cell_type": "markdown",
   "metadata": {},
   "source": [
    "## Imports"
   ]
  },
  {
   "cell_type": "code",
   "execution_count": null,
   "metadata": {
    "collapsed": true
   },
   "outputs": [],
   "source": [
    "import newspaper\n",
    "from newspaper import Article"
   ]
  },
  {
   "cell_type": "markdown",
   "metadata": {},
   "source": [
    "## Example: CNN"
   ]
  },
  {
   "cell_type": "markdown",
   "metadata": {},
   "source": [
    "### 1) Initiliaze Newspaper"
   ]
  },
  {
   "cell_type": "code",
   "execution_count": null,
   "metadata": {
    "collapsed": false
   },
   "outputs": [],
   "source": [
    "cnn_paper = newspaper.build('http://cnn.com')\n",
    "print(cnn_paper.brand)\n",
    "print(cnn_paper.description)\n",
    "print(\"Articles:\", cnn_paper.size())\n",
    "print(\"Categories:\") # User for comparison with identified topics?\n",
    "for category in cnn_paper.category_urls():\n",
    "    print(category)\n",
    "    \n",
    "#print(\"Feed-URLs:\") #usage\n",
    "#for feed_url in cnn_paper.feed_urls():\n",
    "#    print(feed_url)\n"
   ]
  },
  {
   "cell_type": "markdown",
   "metadata": {},
   "source": [
    "### 2) Process First Article"
   ]
  },
  {
   "cell_type": "code",
   "execution_count": null,
   "metadata": {
    "collapsed": false
   },
   "outputs": [],
   "source": [
    "first_article = cnn_paper.articles[0]\n",
    "\n",
    "first_article.download()\n",
    "\n",
    "#print(first_article.html) #plain HTML, not parse\n",
    "first_article.parse()\n",
    "print(\"URL: \",first_article.url)\n",
    "print(\"Title: \",first_article.title)\n",
    "print(\"Authors: \",first_article.authors)\n",
    "print(\"Text: \",first_article.text)"
   ]
  },
  {
   "cell_type": "markdown",
   "metadata": {},
   "source": [
    "### 3) Out of the box NLP:\n",
    "NLTK Corpora need to be downloaded"
   ]
  },
  {
   "cell_type": "code",
   "execution_count": null,
   "metadata": {
    "collapsed": false
   },
   "outputs": [],
   "source": [
    "first_article.nlp() #Einfach \"Weiter\" drücken bei dem popup - der scannt alle Laufwerke nach Corpora ...\n",
    "\n",
    "print(first_article.keywords) #sufficient as bag of words?\n",
    "print(first_article.summary)\n",
    "\n"
   ]
  },
  {
   "cell_type": "markdown",
   "metadata": {},
   "source": [
    "## Example: Breitbart News"
   ]
  },
  {
   "cell_type": "code",
   "execution_count": null,
   "metadata": {
    "collapsed": false
   },
   "outputs": [],
   "source": [
    "bb_paper = newspaper.build('http://feeds.feedburner.com/breitbart')\n",
    "print(bb_paper.brand)\n",
    "print(bb_paper.description)\n",
    "print(\"Articles:\", bb_paper.size()) \n",
    "print(\"Categories:\") \n",
    "for category in bb_paper.category_urls():\n",
    "    print(category)"
   ]
  },
  {
   "cell_type": "code",
   "execution_count": null,
   "metadata": {
    "collapsed": false
   },
   "outputs": [],
   "source": [
    "first_article = bb_paper.articles[0]\n",
    "\n",
    "first_article.download()\n",
    "\n",
    "#print(first_article.html) #plain HTML, not parsed\n",
    "first_article.parse()\n",
    "print(\"URL: \",first_article.url)\n",
    "print(\"Title: \",first_article.title)\n",
    "print(\"Authors: \",first_article.authors)\n",
    "print(\"Text: \",first_article.text)"
   ]
  },
  {
   "cell_type": "markdown",
   "metadata": {},
   "source": [
    "## Example: Manual processing of one URL (from some RSS Feed?)"
   ]
  },
  {
   "cell_type": "code",
   "execution_count": null,
   "metadata": {
    "collapsed": false
   },
   "outputs": [],
   "source": [
    "article = Article(url=\"http://www.breitbart.com/big-government/2017/04/08/what-trump-accomplished-positive-and-productive-meetings-china/\"\n",
    "                  , language='en')\n",
    "\n",
    "article.download()\n",
    "\n",
    "#print(first_article.html) #plain HTML, not parse\n",
    "article.parse()\n",
    "print(\"URL: \",article.url)\n",
    "print(\"Title: \",article.title)\n",
    "print(\"Authors: \",article.authors)\n",
    "print(\"Text: \",article.text)"
   ]
  },
  {
   "cell_type": "code",
   "execution_count": null,
   "metadata": {
    "collapsed": true
   },
   "outputs": [],
   "source": []
  }
 ],
 "metadata": {
  "kernelspec": {
   "display_name": "Python 3",
   "language": "python",
   "name": "python3"
  },
  "language_info": {
   "codemirror_mode": {
    "name": "ipython",
    "version": 3
   },
   "file_extension": ".py",
   "mimetype": "text/x-python",
   "name": "python",
   "nbconvert_exporter": "python",
   "pygments_lexer": "ipython3",
   "version": "3.5.2"
  }
 },
 "nbformat": 4,
 "nbformat_minor": 2
}
